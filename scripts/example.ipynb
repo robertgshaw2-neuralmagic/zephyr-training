{
 "cells": [
  {
   "cell_type": "code",
   "execution_count": 1,
   "metadata": {},
   "outputs": [],
   "source": [
    "%load_ext autoreload\n",
    "%autoreload 2"
   ]
  },
  {
   "cell_type": "code",
   "execution_count": 3,
   "metadata": {},
   "outputs": [],
   "source": [
    "from scripts.chat_dataloader import build_chat_dataloader"
   ]
  },
  {
   "cell_type": "code",
   "execution_count": 4,
   "metadata": {},
   "outputs": [],
   "source": [
    "from omegaconf import OmegaConf as om\n",
    "\n",
    "yaml_path = \"/data/experiments/run0.yaml\"\n",
    "with open(yaml_path) as f:\n",
    "    cfg = om.load(f)\n",
    "om.resolve(cfg)"
   ]
  },
  {
   "cell_type": "code",
   "execution_count": 5,
   "metadata": {},
   "outputs": [],
   "source": [
    "from llmfoundry.utils.config_utils import pop_config\n",
    "                                         \n",
    "train_loader_config = pop_config(cfg, 'train_loader', must_exist=True)"
   ]
  },
  {
   "cell_type": "code",
   "execution_count": 6,
   "metadata": {},
   "outputs": [],
   "source": [
    "from llmfoundry.utils.builders import build_tokenizer\n",
    "\n",
    "tokenizer_config = pop_config(cfg, 'tokenizer', must_exist=True)\n",
    "tokenizer_name = tokenizer_config['name']\n",
    "tokenizer_kwargs = tokenizer_config.get('kwargs', {})\n",
    "tokenizer = build_tokenizer(tokenizer_name, tokenizer_kwargs)"
   ]
  },
  {
   "cell_type": "code",
   "execution_count": 7,
   "metadata": {},
   "outputs": [],
   "source": [
    "device_train_batch_size = pop_config(cfg, 'device_train_batch_size', must_exist=True)"
   ]
  },
  {
   "cell_type": "code",
   "execution_count": 8,
   "metadata": {},
   "outputs": [
    {
     "name": "stdout",
     "output_type": "stream",
     "text": [
      "[{'content': \"These instructions apply to section-based themes (Responsive 6.0+, Retina 4.0+, Parallax 3.0+ Turbo 2.0+, Mobilia 5.0+). What theme version am I using?\\nOn your Collections pages & Featured Collections sections, you can easily show the secondary image of a product on hover by enabling one of the theme's built-in settings!\\nYour Collection pages & Featured Collections sections will now display the secondary product image just by hovering over that product image thumbnail.\\nDoes this feature apply to all sections of the theme or just specific ones as listed in the text material?\", 'role': 'user'}, {'content': 'This feature only applies to Collection pages and Featured Collections sections of the section-based themes listed in the text material.', 'role': 'assistant'}, {'content': 'Can you guide me through the process of enabling the secondary image hover feature on my Collection pages and Featured Collections sections?', 'role': 'user'}, {'content': \"Sure, here are the steps to enable the secondary image hover feature on your Collection pages and Featured Collections sections:\\n\\n1. Log in to your Shopify account and go to your Online Store.\\n2. Click on Customize theme for the section-based theme you are using.\\n3. Navigate to the Collection pages or Featured Collections section where you want to enable the secondary image hover feature.\\n4. With the section open, click on the section's setting (gear) icon in the top-left corner.\\n5. In the settings panel that appears, look for an option labeled 'Image display' or 'Image hover'.\\n6. If available, select 'Show secondary image on hover'.\\n7. Save the changes and preview the Collection/Featured Collection page to see the effect.\\n\\nIf you're having trouble finding the setting, the best thing to do is refer to your theme's documentation, since the location and labeling of settings can vary between themes.\", 'role': 'assistant'}, {'content': 'Can you provide me with a link to the documentation for my theme?', 'role': 'user'}, {'content': \"I don't have access to your store's theme information. However, you can usually find the documentation for your theme by going to the shopify theme store, finding your theme and clicking on the 'support' link located in the bottom right corner of the page. Alternatively, you can do a google search for the name of your theme followed by 'documentation' or 'user guide'.\", 'role': 'assistant'}, {'content': 'Can you confirm if this feature also works for the Quick Shop section of my theme?', 'role': 'user'}, {'content': \"The secondary image hover feature may or may not work for your Quick Shop section, depending on the configuration of your theme. Some themes include this feature in the Quick Shop section by default, while others may require additional customization. To check if this feature is available for the Quick Shop section of your theme, follow these steps:\\n\\n1. Go to the Quick Shop section where you would like to enable the feature. 2. Click on the Quick Shop settings icon (gear icon) and look for 'Image display' or 'Image hover'. 3. If available, select 'Show secondary image on hover'. 4. Save the changes. If this option is not available in your Quick Shop section settings, you may need to reach out to your theme developer for assistance with customizing your Quick Shop section to include this feature.\", 'role': 'assistant'}]\n"
     ]
    },
    {
     "data": {
      "application/vnd.jupyter.widget-view+json": {
       "model_id": "8add1d9bd50b46c9b58b30692b5ee824",
       "version_major": 2,
       "version_minor": 0
      },
      "text/plain": [
       "Map:   0%|          | 0/10000 [00:00<?, ? examples/s]"
      ]
     },
     "metadata": {},
     "output_type": "display_data"
    }
   ],
   "source": [
    "from scripts.train import build_dataloader\n",
    "\n",
    "dataloader = build_dataloader(\n",
    "    train_loader_config,\n",
    "    tokenizer,\n",
    "    device_train_batch_size,\n",
    ")"
   ]
  },
  {
   "cell_type": "code",
   "execution_count": 10,
   "metadata": {},
   "outputs": [
    {
     "name": "stdout",
     "output_type": "stream",
     "text": [
      "\n",
      "---------------------- ROW IDX = 0 ----------------------\n",
      "tensor([28723, 18514,   272, 12048,  7510,   297,  2795,   304,  5281,   272,\n",
      "        17544,   304, 16182, 20162, 11154,   395,   264, 28662, 28723, 28705,\n",
      "        28770, 28723, 18514,   272, 12048,  7510,   778,  1741, 13563,   274,\n",
      "        28725,   684, 28705, 28740, 17013,   297,  1669, 28723, 28705, 28781,\n",
      "        28723,   320,  2158,   272, 13563,   274,   395,   264,  2768,  6748,\n",
      "          291,   302, 24403,  5503,   304,   264,  7378, 26630,   302,  9685,\n",
      "          304, 19082, 28723, 28705, 28782, 28723,  1670,   923,   272, 12048,\n",
      "         7510, 13563,   274,   575,   297,   264,  2692,  7487,   356,   264,\n",
      "        22411, 12173, 28723, 28705, 28784, 28723,  5243,   529,   297,   272,\n",
      "          710,   265,   601, 19126,   354, 28705, 28750, 28734, 28733, 28750,\n",
      "        28782,  3486,   442,  1996,   272, 12048,  7510,   349, 20602,   304,\n",
      "        22140,  9060,   286, 28723,  1136,   354,  9285,   559,  1816,   298,\n",
      "          938, 18532, 26640, 28725,   741,  1179,  2877,   354,   264, 12048,\n",
      "         7510,  6599, 15034,  3024,   306, 23389, 28725,  8536,  2754, 28725,\n",
      "          442,   940, 28713,  2047, 28723, 27376,   559,  1816,   622,  2111,\n",
      "          368,   272,  1489, 16859, 28725,   562,   368,   541,   835,   938,\n",
      "        20283,   559,  1816,   513,   368,   949, 28742, 28707,   506,  6138,\n",
      "          356,  1021, 28723,  3194,   347,  1864,   298,   938,  7191,  2108,\n",
      "          513,  1413, 20283,   559,  1816,  1854,   590,   541,   347,   680,\n",
      "         2513,   308,   821,  6138, 28723, 22823, 28808,  -100, 28705,    13])\n",
      "\n",
      "---------------------- ROW IDX = 1 ----------------------\n",
      "tensor([28747,   345, 13044,   478,  1023,  1388,   264,  1721,   304,  3587,\n",
      "          582,   456,  4687,   611,    13,    13, 28743,  1765,  6991, 28747,\n",
      "           13,    13,  7637,  6950,    13,    13,  2945, 28723,   320, 12440,\n",
      "         2043, 13807,  4341,   387, 25259,  3151, 28735,   393,   962,   725,\n",
      "           13,    13,  1014,  3282,   506,  4251, 18098,   286,   272,  3659,\n",
      "          295, 13478,  7076, 28741, 28723,  1306,   506,   264, 20338,  1905,\n",
      "          261, 16261,  2003,   304,   264, 13457,  2296, 28723,    13,    13,\n",
      "        28798,  2109,   832, 28747,   345, 28737,   541, 28742, 28707,  3091,\n",
      "          910,  2082,   478, 28742,   333,  1567, 28723,   816,   544,  2774,\n",
      "          575,  8215,  2511,   684, 18098,   288, 28725,   562,  1055,   478,\n",
      "        28742,   267, 11725,   611,    13,    13, 28735,  2854, 28747,   345,\n",
      "         2467,   478, 28742,   267,  2461,   579,  1188,   746,  1312,  2548,\n",
      "          378, 28723,   315, 28742, 28719,   579,  8200,   478,  1539, 28742,\n",
      "        28707,  2111,   582,   611,    13,    13, 28798,  4614, 28747,   345,\n",
      "         2467,   478,  1019,  8239,   575,   369,   268,  1510,   322, 28724,\n",
      "        18098,  1193,  1060,   272,  5948,   297,   264, 10337,  9230,  1369,\n",
      "          611,    13,    13, 12322,  1180, 28802, 28747,   345,  2601,   298,\n",
      "         4389, 28725,   478,   544,  3246,  1598,  3282,  1059,   456,  1759,\n",
      "          611,    13,    13, 28755,  3064,  9880, 28747,   345,  2467,   693,\n",
      "         5960, 28804,  5833,   297,   264,  1664,  1267,  -100, 28705,    13])\n",
      "\n",
      "---------------------- ROW IDX = 2 ----------------------\n",
      "tensor([15638, 28723,    13,    13, 28770, 28723, 15408,   276,   334,  1260,\n",
      "         4537,  3368,   387,   851, 13628,   349,  3659,   354, 22244,   356,\n",
      "         6635, 28718,  3186, 17341,   274,  1159,   298,  7319,   706,   395,\n",
      "         1170,   381,   631, 19016, 28723,   995,   541,  1300,  1773,  1262,\n",
      "        10558, 13628,  1269,   477,  3274,   265,  6420, 28725,   579, 28724,\n",
      "        28725,   442, 14609,   266,   329, 28723,   524,   570,  7442,   304,\n",
      "          320,  1009,   329,  5758,   460,   741,   302,   272,  4387, 15638,\n",
      "        28723,    13,    13, 28781, 28723, 15408,   276,   367,  1785,   274,\n",
      "          276,  4537,  3368,   387,   851, 13628,   349,  3659,   354,  7378,\n",
      "          655,  1905,   754,  1170,   381,   631, 19016,   442, 27412, 25064,\n",
      "        14520, 28723,   995,   541,  1300,  1773,  1262,   940,  4137,   276,\n",
      "        13628,  1269,   477,  3274,   265,  6420, 28725,   389,  8025, 28713,\n",
      "        28725,   442,  9246, 28712,  2582, 14764,   529, 28723,  9822,  3604,\n",
      "        14552,   304,  3187, 15408, 10955,   460,   741,   302,   272,  4387,\n",
      "        15638, 28723,    13,    13,  1976,   541,   835,  1038,   574,  1216,\n",
      "         1773,  1262, 13628,   438,  1611,  1413,  3274,   265,  6420, 28725,\n",
      "          389,  8025, 28713, 28725,   298, 21278, 28725,   442,  9246, 28712,\n",
      "         2582, 14764,   529, 28723,   661, 28742, 28713,   746,   298,  6878,\n",
      "          304,  1300,   575,   690, 15637,   734,   304,  2245,  1238,   771,\n",
      "         1489,   354,   368,   304,   574, 11089, 28723,  -100, 28705,    13])\n",
      "\n",
      "---------------------- ROW IDX = 3 ----------------------\n",
      "tensor([  675, 28723,  3539,   831,  4544,   460,  2632,   297,  6491,   302,\n",
      "        28705, 28740, 28734, 28725, 28705, 28740, 28782, 28725, 28705, 28750,\n",
      "        28782, 28725,   442, 28705, 28782, 28734, 28725,   304,  1430,   808,\n",
      "         3435,   395,   264,  6677,   302, 21535,  2877, 28723,  2909, 11603,\n",
      "          404,   835,  2405,  3235,   284,   831,  4544, 28725,  2492,   378,\n",
      "         3411,   298,  4987,   574,  6656, 11016, 28723,  -100, 28705,    13,\n",
      "         -100,  -100,  -100,  -100,  -100,  -100,  -100,  -100,  -100,  -100,\n",
      "         -100,  -100,  -100,  -100,  -100,  -100,  -100,  -100,  -100,  -100,\n",
      "         -100,  -100,  -100,  -100,  -100,  -100,  -100,  -100,  -100,  -100,\n",
      "         -100,  -100,  -100,  -100,  -100,  -100,  -100,  -100,  -100,    13,\n",
      "        28737,   511,   459,   506,  2735,   298,  1353, 28733,  1536,  1871,\n",
      "        28725,   562,   390,  2082,   390,   315,   873, 28725,   991,   831,\n",
      "         4544,   752, 12713,   284,   831,  4544,   460,  2632,   297,  2856,\n",
      "         5780, 28725,  2490,   541,  1540, 28725, 27162,   515, 28725,   272,\n",
      "        27434, 17782, 28725,   304,   741,  5780,   297, 20337, 28723,   995,\n",
      "          541,  1877,   395,   574,  1862,  5086,  1193, 10858,   442,  3270,\n",
      "        11603,   404,   297,   574,  4424,   298,  1032,   513,   590,  7096,\n",
      "          991,   831,  4544, 28723, 16677,  6308, 28725,   368,   541,  1877,\n",
      "          272,   991,   831,  4544,  5189,  4400,   298,  1032,   513,   590,\n",
      "         2405,  5611, 13369,   298,   574,  2698, 28723,  -100, 28705,    13])\n",
      "\n",
      "---------------------- ROW IDX = 4 ----------------------\n",
      "tensor([15702, 22359, 28723,  5919,   835,  1346,   592,   873,   272,  3349,\n",
      "         1736,   727,   354,  9562, 28723, 16569, 28725,   478,   682,   737,\n",
      "          298,   873,   767,   272,  3349,  5678,   274,  3420,   349,   302,\n",
      "          456,  2093,  4480, 28723,   816,   947,   298,  5407,   369,   813,\n",
      "         2093,   349, 26200,   304,  2358,   298,  2647,   272,  3208,   302,\n",
      "          813,  5688, 28723,  1136,   624,   302,   574, 13457,  5688, 28725,\n",
      "          478,   654, 12785,   513,   736,   654,   707,  2841, 14685,   442,\n",
      "        12711, 28713,  2632,   354,   456,  2093,  4480, 28723,   816, 11982,\n",
      "          574,  1043, 28733,  6590, 13737,   304,   682, 10058,   707,  8280,\n",
      "          298,  3084,   592,   395,   272,  1489,  3215,  2572, 28723,  1047,\n",
      "          736,   349,   707, 13839,  2090,   442,   727, 17656,   297, 21402,\n",
      "          456,  2093,  4480, 28725,  4665,  5227,   592,   579,   369,   478,\n",
      "          541,  1038,   272,  4892, 20229,   298,  5407,   369,   478,  5556,\n",
      "          378,   297,   727,   298,  2647,   813,  2488,  3694,  8063, 28723,\n",
      "         7812,   368,   354,  3344,   272,   727,   298,  1917,   813,  2159,\n",
      "        28723,   816,  1192,   574, 13737,   395,   813,  1955,   304,   913,\n",
      "         3814,   298,  9788,   477,   368,  3403, 28723,  5919,  1601,  1933,\n",
      "          298,  3754,   528,   438,   733, 11159, 12603,  9148, 28793,   513,\n",
      "          368,  2699,   707,  3629,  1871, 28723,   394,  1785,  2678,  2178,\n",
      "        28725,    13,    13, 28792, 11159,  6620, 28793,  -100, 28705,    13])\n",
      "\n",
      "---------------------- ROW IDX = 5 ----------------------\n",
      "tensor([28723,    13, 28770, 28723,  3066,   333,   395,  2894, 28733,   820,\n",
      "          426,  9551,   404,   442, 10035,   522, 25762, 28723,    13,    13,\n",
      "         1701,  7467, 28747,    13,  2565,  1272,  8142, 28733,  3669, 28725,\n",
      "         7031,   395,  1272,  8142, 28733,  3669,  9551,   404, 28723,    13,\n",
      "           13, 28750, 28723, 14270,   365,  6629,    13,   657, 28721,   893,\n",
      "         2785, 28747,    13, 28740,  6211, 12183,   289,  1449,    13, 28740,\n",
      "        28748, 28750,  6211,   389,  8025, 11488,    13, 28740, 28748, 28781,\n",
      "         6211,  3341,   291,  5747,  7064,    13, 28740,   261,   886,  1697,\n",
      "         4534,  9131,    13, 28740, 28748, 28750,  6211,  1773,  1262, 14403,\n",
      "        21968,    13,    13,  6060,  8373, 28747,    13, 28740, 28723,   560,\n",
      "          264, 13494, 28725,  6750,  2553,   272, 12183,   289,  1449, 28725,\n",
      "          389,  8025, 11488, 28725,  3341,   291,  5747,  7064, 28725,   304,\n",
      "         1697,  4534,  9131, 28723,    13, 28750, 28723,   401,   738,   297,\n",
      "          272,  1773,  1262, 14403, 21968, 28723,    13, 28770, 28723, 12326,\n",
      "          272, 16232,   778, 16852,   304,  1633,   706,   297,   272, 23641,\n",
      "         1028,   354,   438,  2429, 28705, 28770, 28734,  3486,   298,  5106,\n",
      "          304,   808, 28723,    13,    13,  1701,  7467, 28747,    13,  2565,\n",
      "         9246, 28733,  3669, 28725,   938,  4376,  1134,  1072, 11057, 11488,\n",
      "         3519,   302,   389,  8025, 11488, 28723,    13,    13, 28737,  3317,\n",
      "         1167,  2502,   468, 21116,   460, 10865, 28808,  -100, 28705,    13])\n",
      "\n",
      "---------------------- ROW IDX = 6 ----------------------\n",
      "tensor([28705,    13,    13, 28770, 28723,  8587, 23626,  9215,  3226,   697,\n",
      "        28747,  1133,  3896,  4548,  1323, 21158,  8248,   697,   395, 11796,\n",
      "          369,   829,  3024, 12439,  9579,   302,  3618,  3926, 28725,  9353,\n",
      "         7080,  8280, 28725,   304,  6431,  5823, 28723,  1263,  2757, 28725,\n",
      "          264,  1862,  9926,   829,   949,   380,   312,   381,   522,  3734,\n",
      "          596,  4544,   298,   938,  1938,  3618,  3926,   297,  8877,   354,\n",
      "         1250, 12526,   390,   264, 19318,  6977, 28723,    13,    13, 28781,\n",
      "        28723,  3523,  3159,   653, 16557, 28747,  3523,  3159,   653,   304,\n",
      "        16895,   272,  2288,   274,   302,   272,  6977,  9909, 28725,   304,\n",
      "        19200, 20199,   652, 11817,   298,   272, 11755,  2437,  8280, 28723,\n",
      "           13,    13, 28782, 28723,  7133,   547, 13718, 10741, 10731, 28747,\n",
      "         7133,   547, 12734,  1760,   304,  5823,   298,  6031,  8689,   304,\n",
      "         9909,   390,   590,  8799,  4466,   578, 28733, 18109, 10879, 28723,\n",
      "        28705,    13,    13, 28784, 28723,  2597,  3275,  4655,  5254, 28747,\n",
      "         2597,  3275,   272,  2288,   302,   272,  8248,   697,   298,  3084,\n",
      "        12139,   304,  9051,  5020,   302, 14204,   354,  3437, 13737, 28713,\n",
      "        28723,    13,    13,  1930,  2296,  1167,  5944, 28725,   478,   541,\n",
      "        14200,   395,  1862,  8689,   304,  9909,   304,  1316,   706,  1388,\n",
      "         5944,  5083,  7888,   680, 19318,   304, 17032,   652, 11817,   298,\n",
      "        10409, 27702,   297,  1862,  2130,  1504, 28723,  -100, 28705,    13])\n",
      "\n",
      "---------------------- ROW IDX = 7 ----------------------\n",
      "tensor([  586, 11990, 28723,   661,  1269,   528,  8168,   369,   905,   460,\n",
      "         7813,   298, 24014,   513,   368,  1216,   582,   298,   574, 17179,\n",
      "          304,  1038,   396,  4261,   298,  1038,  1722,  1103, 28723,  3672,\n",
      "          369,  1370,   356, 28725,   315,  1269,   264,  9994,  4261,   298,\n",
      "          347,   680,  2273,  1007,   302,   910,   315,  7310,   298,   304,\n",
      "         9852,  2663, 28723,   661, 28742, 28713,   459,  3411,   298,  1840,\n",
      "          574, 13855,   297,  1877, 28725,   562,   378, 28742, 28713, 13040,\n",
      "          298,   272,  9391,   368,   506,   395,  2663, 28723,  4002,  1165,\n",
      "         3864,   349,   264,  1492,   302,  6342, 28725,   459, 18288, 28723,\n",
      "          661,  4347, 15276,   298, 11617,   574,  9683, 28713, 28725, 15884,\n",
      "          653,   304,  1038,  1722,  1103, 28723,   560, 12886, 28725,   315,\n",
      "         5996,   264, 12302, 15330,  1059,   456,  2659,   764,   272,  9545,\n",
      "          302, 25993,   288, 14384,   304, 15884,  3864,   739,   297,   272,\n",
      "         3544, 28723,  4002,  1165,  3864,   993,   347,  3796, 28725,   562,\n",
      "          378, 28742, 28713,   264,  1492,   302,  6342,   304,  4370,  3233,\n",
      "          764,   378, 28742, 28713,   272, 15846,  1411, 10346, 28723, 10091,\n",
      "          586,  7719, 28725,   315, 10099,   369,   272,  1982,   302, 12706,\n",
      "         9992,   349,  7276,   298,  1846,  4590,   304, 17877,  7783,  9391,\n",
      "        28723,   315,  7185,   369,  4662,   378, 28742, 28713,  1873,   298,\n",
      "          347,  2112,   821,   298,   347,  1103, 28723,  -100, 28705,    13])\n"
     ]
    }
   ],
   "source": [
    "labels = next(iter(dataloader.dataloader))[\"labels\"]\n",
    "\n",
    "for row_idx in range(labels.shape[0]):\n",
    "    print(f\"\\n---------------------- ROW IDX = {row_idx} ----------------------\")\n",
    "    print(labels[row_idx,-200:])\n",
    "\n",
    "    # for i in range(20):\n",
    "    #     print(f\"i={i}: {labels[row_idx,i*100:(i+1)*100]}\")"
   ]
  },
  {
   "cell_type": "code",
   "execution_count": null,
   "metadata": {},
   "outputs": [],
   "source": []
  }
 ],
 "metadata": {
  "kernelspec": {
   "display_name": "Python 3 (ipykernel)",
   "language": "python",
   "name": "python3"
  },
  "language_info": {
   "codemirror_mode": {
    "name": "ipython",
    "version": 3
   },
   "file_extension": ".py",
   "mimetype": "text/x-python",
   "name": "python",
   "nbconvert_exporter": "python",
   "pygments_lexer": "ipython3",
   "version": "3.10.13"
  }
 },
 "nbformat": 4,
 "nbformat_minor": 2
}
