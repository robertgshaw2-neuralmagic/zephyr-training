{
 "cells": [
  {
   "cell_type": "code",
   "execution_count": null,
   "metadata": {},
   "outputs": [],
   "source": [
    "!pip install -U torch==2.0.1"
   ]
  },
  {
   "cell_type": "code",
   "execution_count": 2,
   "metadata": {},
   "outputs": [],
   "source": [
    "import os\n",
    "os.environ[\"CUDA_VISIBLE_DEVICES\"] = \"1\""
   ]
  },
  {
   "cell_type": "code",
   "execution_count": 3,
   "metadata": {},
   "outputs": [],
   "source": [
    "def generate_prompts(tokenizer, dataset, messages_column_name=\"messages\", num_prompts=3):\n",
    "    messages = dataset.shuffle().select(range(num_prompts))[messages_column_name]\n",
    "    system_prompt = {\n",
    "        \"content\": \"You are a helpful chatbot\",\n",
    "        \"role\": \"system\"\n",
    "    }\n",
    "    prompts = []\n",
    "    for message in messages:\n",
    "        convo = [system_prompt] + message[:-1]\n",
    "        prompt = tokenizer.apply_chat_template(convo, tokenize=False, add_generation_prompt=True)\n",
    "        prompts.append(prompt)\n",
    "    return prompts"
   ]
  },
  {
   "cell_type": "code",
   "execution_count": 4,
   "metadata": {},
   "outputs": [
    {
     "name": "stderr",
     "output_type": "stream",
     "text": [
      "/home/rshaw/zephyr-training/.venv/lib/python3.10/site-packages/tqdm/auto.py:21: TqdmWarning: IProgress not found. Please update jupyter and ipywidgets. See https://ipywidgets.readthedocs.io/en/stable/user_install.html\n",
      "  from .autonotebook import tqdm as notebook_tqdm\n",
      "Loading checkpoint shards: 100%|██████████| 2/2 [00:07<00:00,  3.58s/it]\n",
      "Downloading (…)neration_config.json: 100%|██████████| 111/111 [00:00<00:00, 877kB/s]\n",
      "Downloading (…)okenizer_config.json: 100%|██████████| 1.34k/1.34k [00:00<00:00, 17.7MB/s]\n",
      "Downloading tokenizer.model: 100%|██████████| 493k/493k [00:00<00:00, 27.3MB/s]\n",
      "Downloading (…)/main/tokenizer.json: 100%|██████████| 1.80M/1.80M [00:00<00:00, 35.8MB/s]\n",
      "Downloading (…)cial_tokens_map.json: 100%|██████████| 551/551 [00:00<00:00, 3.69MB/s]\n"
     ]
    }
   ],
   "source": [
    "import torch\n",
    "from transformers import AutoModelForCausalLM, AutoTokenizer\n",
    "\n",
    "model_path = \"robertgshaw2/mistral-sft-dense-run3-10k-samples\"\n",
    "dataset_path = \"HuggingFaceH4/ultrachat_200k\"\n",
    "\n",
    "model = AutoModelForCausalLM.from_pretrained(model_path, device_map={\"\":0}, torch_dtype=torch.float16)\n",
    "tokenizer = AutoTokenizer.from_pretrained(model_path)"
   ]
  },
  {
   "cell_type": "code",
   "execution_count": 6,
   "metadata": {},
   "outputs": [
    {
     "name": "stdout",
     "output_type": "stream",
     "text": [
      "{% for message in messages %}\n",
      "{% if message['role'] == 'user' %}\n",
      "{{ '<|user|>\n",
      "' + message['content'] + eos_token }}\n",
      "{% elif message['role'] == 'system' %}\n",
      "{{ '<|system|>\n",
      "' + message['content'] + eos_token }}\n",
      "{% elif message['role'] == 'assistant' %}\n",
      "{{ '<|assistant|>\n",
      "'  + message['content'] + eos_token }}\n",
      "{% endif %}\n",
      "{% if loop.last and add_generation_prompt %}\n",
      "{{ '<|assistant|>' }}\n",
      "{% endif %}\n",
      "{% endfor %}\n"
     ]
    }
   ],
   "source": [
    "print(tokenizer.chat_template)"
   ]
  },
  {
   "cell_type": "code",
   "execution_count": 7,
   "metadata": {},
   "outputs": [],
   "source": [
    "from datasets import load_dataset\n",
    "\n",
    "dataset = load_dataset(dataset_path, split=\"train_sft\")"
   ]
  },
  {
   "cell_type": "code",
   "execution_count": 17,
   "metadata": {},
   "outputs": [],
   "source": [
    "tokenizer.pad_token_id = tokenizer.eos_token_id "
   ]
  },
  {
   "cell_type": "code",
   "execution_count": 29,
   "metadata": {},
   "outputs": [
    {
     "name": "stderr",
     "output_type": "stream",
     "text": [
      "Setting `pad_token_id` to `eos_token_id`:2 for open-end generation.\n"
     ]
    },
    {
     "name": "stdout",
     "output_type": "stream",
     "text": [
      "<s> <|system|>\n",
      "You are a helpful chatbot</s> \n",
      "<|user|>\n",
      "Can you provide a summary of the latest PMI surveys indicating global economic growth in September?: The following is an extract from IHS Markit's monthly PMI overview presentation. For the full report please click on the link at the bottom of the article.\n",
      "Global economic growth moderated to a two-year low in September in a broad-based slowdown, according to the latest PMI surveys. The headline JPMorgan Global Composite PMI, compiled by IHS Markit, fell for a third successive month in September, down from 53.4 in August to 52.8, its lowest since September 2016. The latest reading is indicative of annual global GDP growth slipping below 2.5% (at market exchange rates). Business confidence about the year ahead likewise fell to the gloomiest for two years, suggesting growth may weaken further in coming months.\n",
      "Slower growth was recorded across both manufacturing and services, the former down to a two-year low while the latter showed the joint-slowest rise for two years. A key area of weakness remained global exports, which fell for the first time in over two years in September, representing a marked turnaround in worldwide trade since the surging growth seen at the start of the year.\n",
      "© 2018, IHS Markit Inc. All rights reserved. Reproduction in whole or in part without permission is prohibited.\n",
      "Purchasing Managers' Index™ (PMI™) data are compiled by IHS Markit for more than 40 economies worldwide. The monthly data are derived from surveys of senior executives at private sector companies, and are available only via subscription. The PMI dataset features a headline number, which indicates the overall health of an economy, and sub-indices, which provide insights into other key economic drivers such as GDP, inflation, exports, capacity utilization, employment and inventories. The PMI data are used by financial and corporate professionals to better understand where economies and markets are headed, and to uncover opportunities.</s> \n",
      "<|assistant|>\n",
      "The latest PMI surveys by IHS Markit indicate a slowdown in global economic growth to a two-year low in September. The JPMorgan Global Composite PMI, representing the annual global GDP growth, fell for a third consecutive month to 52.8, its lowest level since September 2016, suggesting that growth could weaken further in the coming months. Both manufacturing and services recorded slower growth, with global exports falling for the first time in over two years in September. Business confidence about the year ahead also fell to its lowest level in two years.</s> \n",
      "<|user|>\n",
      "Can you provide more details on the areas where slower growth was recorded in both manufacturing and services?</s> \n",
      "<|assistant|>\n",
      "According to the PMI surveys by IHS Markit, slower growth was recorded in both manufacturing and services worldwide. In manufacturing, the survey indicated that new orders and production growth were the weakest since September 2016, alongside a significant deceleration in job creation, with staffing numbers rising globally at the slowest rate for two years. In services, the growth in new business eased to a two-year low, while business confidence weakened to its lowest level in two years.</s> \n",
      "<|user|>\n",
      "Can you provide more information on the impact of the slowdown in global exports on worldwide trade?</s> \n",
      "<|assistant|>\n",
      "The PMI surveys conducted by IHS Markit indicated a considerable slowdown in worldwide trade due to a drop in global exports. Global exports contracted for the first time in over two years in September, representing a marked turnaround in worldwide trade from the surging growth seen at the start of the year. This negative growth in exports was observed in several key economies, including China, Japan, Germany, and the UK, which could signal a gloomier outlook for global trade in the coming months. The impact of this slowdown on worldwide trade could include reduced demand, job losses, cuts in capital spending, and lower economic growth.</s> \n",
      "<|user|>\n",
      "Can you provide more information on the specific countries or regions that were mostly affected by the slowdown in global economic growth?</s> \n",
      "<|assistant|>\n",
      "According to the PMI surveys conducted by IHS Markit, the slowdown in global economic growth was observed across several key economies. In manufacturing, the slowdown was most pronounced in China, where the PMI fell to a 19-month low, and in the Eurozone, where the PMI fell to a 21-month low. In services, the slowdown was most pronounced in the Eurozone, where the PMI fell to a 21-month low, and in the UK, where the PMI fell to a 21-month low. Other countries that were affected by the slowdown include the US, Japan, and India. The impact of the slowdown on these economies could include reduced economic growth, job losses, and lower demand for goods and services.</s>\n",
      "\n",
      "\n",
      "\n",
      "\n"
     ]
    }
   ],
   "source": [
    "import time\n",
    "\n",
    "prompts = generate_prompts(tokenizer, dataset, num_prompts=1)\n",
    "\n",
    "start = time.perf_counter()\n",
    "for prompt in prompts:\n",
    "    inps = tokenizer(prompt, return_tensors=\"pt\")\n",
    "    for key in inps:\n",
    "        inps[key] = inps[key].to(\"cuda\")\n",
    "    \n",
    "    outputs_tokens = model.generate(**inps, max_new_tokens=1000)\n",
    "\n",
    "    print(tokenizer.batch_decode(outputs_tokens)[0])\n",
    "    print(\"\\n\\n\\n\")\n",
    "torch.cuda.synchronize()\n",
    "end = time.perf_counter()"
   ]
  },
  {
   "cell_type": "code",
   "execution_count": 30,
   "metadata": {},
   "outputs": [
    {
     "name": "stdout",
     "output_type": "stream",
     "text": [
      "total_tokens = 1106\n",
      "new_tokens = 168\n",
      "num_seconds = 7.8967392379418015\n",
      "new tok/sec = 21.274603977399074\n"
     ]
    }
   ],
   "source": [
    "start_tokens = inps[\"input_ids\"].shape[1]\n",
    "total_tokens = outputs_tokens.shape[1]\n",
    "\n",
    "print(f\"total_tokens = {total_tokens}\")\n",
    "print(f\"new_tokens = {total_tokens - start_tokens}\")\n",
    "print(f\"num_seconds = {end - start}\")\n",
    "print(f\"new tok/sec = {(total_tokens - start_tokens) / (end - start)}\")"
   ]
  },
  {
   "cell_type": "code",
   "execution_count": 2,
   "metadata": {},
   "outputs": [
    {
     "name": "stderr",
     "output_type": "stream",
     "text": [
      "/home/rshaw/zephyr-training/.venv/lib/python3.10/site-packages/tqdm/auto.py:21: TqdmWarning: IProgress not found. Please update jupyter and ipywidgets. See https://ipywidgets.readthedocs.io/en/stable/user_install.html\n",
      "  from .autonotebook import tqdm as notebook_tqdm\n",
      "Loading checkpoint shards: 100%|██████████| 2/2 [00:18<00:00,  9.06s/it]\n"
     ]
    }
   ],
   "source": [
    "# from transformers import AutoModelForCausalLM, AutoTokenizer\n",
    "# import torch\n",
    "\n",
    "# model = AutoModelForCausalLM.from_pretrained(\n",
    "#     model_id,\n",
    "#     torch_dtype=torch.float16,\n",
    "#     device_map={'':0}\n",
    "# )\n",
    "\n",
    "# tokenizer = AutoTokenizer.from_pretrained(model_id)"
   ]
  },
  {
   "cell_type": "code",
   "execution_count": 1,
   "metadata": {},
   "outputs": [
    {
     "name": "stderr",
     "output_type": "stream",
     "text": [
      "/home/rshaw/zephyr-training/.venv/lib/python3.10/site-packages/tqdm/auto.py:21: TqdmWarning: IProgress not found. Please update jupyter and ipywidgets. See https://ipywidgets.readthedocs.io/en/stable/user_install.html\n",
      "  from .autonotebook import tqdm as notebook_tqdm\n"
     ]
    },
    {
     "name": "stdout",
     "output_type": "stream",
     "text": [
      "<fastchat.model.model_adapter.ZephyrBetaAdapter object at 0x7fe693d9c850>\n"
     ]
    },
    {
     "name": "stderr",
     "output_type": "stream",
     "text": [
      "Loading checkpoint shards: 100%|██████████| 8/8 [00:27<00:00,  3.41s/it]\n"
     ]
    }
   ],
   "source": [
    "from fastchat.model import load_model, get_conversation_template\n",
    "import torch\n",
    "\n",
    "# model_path = \"/home/rshaw/zephyr-training/pruning/data/zephyr-50sparse-fp16-one-shot-v0\"\n",
    "model_path = \"HuggingFaceH4/zephyr-7b-beta\"\n",
    "model_id = \"zephyr-beta\"\n",
    "\n",
    "model, tokenizer = load_model(\n",
    "    model_path,\n",
    "    device=\"cuda\",\n",
    "    num_gpus=1,\n",
    "    dtype=torch.float16,\n",
    "    load_8bit=False,\n",
    "    cpu_offloading=False,\n",
    "    debug=False,\n",
    ")"
   ]
  },
  {
   "cell_type": "code",
   "execution_count": 4,
   "metadata": {},
   "outputs": [
    {
     "name": "stdout",
     "output_type": "stream",
     "text": [
      "{'question_id': 83, 'category': 'writing', 'turns': ['Imagine you are writing a blog post comparing two popular smartphone models. Develop an outline for the blog post, including key points and subheadings to effectively compare and contrast the features, performance, and user experience of the two models. Please answer in fewer than 200 words.', 'Take your previous response and rephrase it as a limerick.']}\n",
      "<|system|>\n",
      "</s>\n",
      "<|user|>\n",
      "Imagine you are writing a blog post comparing two popular smartphone models. Develop an outline for the blog post, including key points and subheadings to effectively compare and contrast the features, performance, and user experience of the two models. Please answer in fewer than 200 words.</s>\n",
      "<|assistant|>\n",
      "\n"
     ]
    }
   ],
   "source": [
    "from FastChat.fastchat.llm_judge.common import load_questions, temperature_config\n",
    "\n",
    "question_file = \"FastChat/fastchat/llm_judge/data/mt_bench/question.jsonl\"\n",
    "questions = load_questions(question_file, None, None)\n",
    "question = questions[2]\n",
    "print(question)\n",
    "\n",
    "conv = get_conversation_template(model_id)\n",
    "\n",
    "turns = []\n",
    "for j in range(len(question[\"turns\"])):\n",
    "    qs = question[\"turns\"][j]\n",
    "    conv.append_message(conv.roles[0], qs)\n",
    "    conv.append_message(conv.roles[1], None)\n",
    "    prompt = conv.get_prompt()\n",
    "\n",
    "    do_sample=True\n",
    "    temperature=0.7\n",
    "    print(prompt)\n",
    "    \n",
    "    input_ids = tokenizer([prompt]).input_ids\n",
    "\n",
    "    output_ids = model.generate(\n",
    "        torch.as_tensor(input_ids).cuda(),\n",
    "        do_sample=do_sample,\n",
    "        temperature=temperature,\n",
    "        max_new_tokens=1024,\n",
    "        use_cache=True\n",
    "    )\n",
    "\n",
    "    break"
   ]
  },
  {
   "cell_type": "code",
   "execution_count": 6,
   "metadata": {},
   "outputs": [
    {
     "name": "stdout",
     "output_type": "stream",
     "text": [
      "<s> <|system|>\n",
      "</s> \n",
      "<|user|>\n",
      "Imagine you are writing a blog post comparing two popular smartphone models. Develop an outline for the blog post, including key points and subheadings to effectively compare and contrast the features, performance, and user experience of the two models. Please answer in fewer than 200 words.</s> \n",
      "<|assistant|>\n",
      "Title: Smartphone Showdown: iPhone 12 vs. Samsung Galaxy S21\n",
      "\n",
      "Introduction:\n",
      "\n",
      "Smartphones have become a vital part of our daily lives, and with new models coming out every year, it can be overwhelming to decide which one to pick. In this blog post, we will compare two popular smartphone models, the iPhone 12, and Samsung Galaxy S21. We will take a closer look at their features, performance, and user experience to help you make an informed decision.\n",
      "\n",
      "1. Design and Display\n",
      "\n",
      "- iPhone 12: The iPhone 12 comes with a new design, featuring a flat-edged rectangular shape. It has a 6.1-inch Super Retina XDR OLED display with a 2532 x 1170 resolution. The display also supports HDR content and Dolby Vision.\n",
      "- Samsung Galaxy S21: The Samsung Galaxy S21 also comes with a modern design, featuring a sleek, flat-screen design. It has a 6.2-inch Dynamic AMOLED 2X display with a 2400 x 1080 resolution. The display also supports HDR10+ content.\n",
      "\n",
      "2. Processor and Performance\n",
      "\n",
      "- iPhone 12: The iPhone 12 is powered by the A14 Bionic chip, which is a 64-bit, six-core processor. It also has a four-core GPU and 4GB of RAM. The A14 Bionic chip is known for its fast performance and efficiency.\n",
      "- Samsung Galaxy S21: The Samsung Galaxy S21 is powered by the Snapdragon 888 processor in the US and the Exynos 2100 processor in other regions. It also has an eight-core GPU and 8GB of RAM. The Snapdragon 888 processor is known for its fast performance and excellent gaming capabilities.\n",
      "\n",
      "3. Camera\n",
      "\n",
      "- iPhone 12: The iPhone 12 comes with a dual-camera setup, featuring a 12-megapixel ultra-wide-angle lens and a 12-megapixel wide-angle lens. The camera also supports Night mode, Deep Fusion, and ProRAW.\n",
      "- Samsung Galaxy S21: The Samsung Galaxy S21 comes with a triple-camera setup, featuring a 12-megapixel wide-angle lens, a 12-megapixel ultra-wide-angle lens, and a 64-megapixel telephoto lens. The camera also supports Night mode and Pro mode.\n",
      "\n",
      "4. Battery Life and Charging\n",
      "\n",
      "- iPhone 12: The iPhone 12 has a 2815mAh battery, which is smaller than the iPhone 11's battery. It also supports 20W fast charging (through a USB-C to Lightning cable and adapter sold separately) and wireless charging.\n",
      "- Samsung Galaxy S21: The Samsung Galaxy S21 has a 4000mAh battery, which is larger than the Galaxy S20's battery. It also supports 25W fast charging and wireless charging.\n",
      "\n",
      "5. User Experience\n",
      "\n",
      "- iPhone 12: The iPhone 12 runs on iOS 14, which is known for its simplicity and user-friendliness. It also has a responsive touch screen and Face ID for secure biometric authentication.\n",
      "- Samsung Galaxy S21: The Samsung Galaxy S21 runs on Android 11, which is customizable and user-friendly. It also has a responsive touch screen and an in-display fingerprint sensor for secure biometric authentication.\n",
      "\n",
      "Conclusion:\n",
      "\n",
      "In conclusion, both the iPhone 12 and Samsung Galaxy S21 are excellent smartphone models, and choosing between them depends on your personal preferences. If you prefer iOS and a smaller battery, the iPhone 12 might be the better choice. If you prefer Android and a larger battery, the Samsung Galaxy S21 might be the better choice. Ultimately, both smartphones offer top-of-the-line features, performance, and user experience.</s>\n"
     ]
    }
   ],
   "source": [
    "print(tokenizer.batch_decode(output_ids)[0])"
   ]
  }
 ],
 "metadata": {
  "kernelspec": {
   "display_name": "Python 3 (ipykernel)",
   "language": "python",
   "name": "python3"
  },
  "language_info": {
   "codemirror_mode": {
    "name": "ipython",
    "version": 3
   },
   "file_extension": ".py",
   "mimetype": "text/x-python",
   "name": "python",
   "nbconvert_exporter": "python",
   "pygments_lexer": "ipython3",
   "version": "3.10.12"
  }
 },
 "nbformat": 4,
 "nbformat_minor": 2
}
